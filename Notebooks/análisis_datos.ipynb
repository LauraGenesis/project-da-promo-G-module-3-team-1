{
 "cells": [
  {
   "cell_type": "code",
   "execution_count": 7,
   "metadata": {},
   "outputs": [],
   "source": [
    "import pandas as pd\n",
    "import numpy as np"
   ]
  },
  {
   "cell_type": "code",
   "execution_count": 31,
   "metadata": {},
   "outputs": [],
   "source": [
    "data =pd.read_csv(\"Files/data_v1.csv\",index_col = 0)"
   ]
  },
  {
   "cell_type": "code",
   "execution_count": 32,
   "metadata": {},
   "outputs": [
    {
     "data": {
      "text/html": [
       "<div>\n",
       "<style scoped>\n",
       "    .dataframe tbody tr th:only-of-type {\n",
       "        vertical-align: middle;\n",
       "    }\n",
       "\n",
       "    .dataframe tbody tr th {\n",
       "        vertical-align: top;\n",
       "    }\n",
       "\n",
       "    .dataframe thead th {\n",
       "        text-align: right;\n",
       "    }\n",
       "</style>\n",
       "<table border=\"1\" class=\"dataframe\">\n",
       "  <thead>\n",
       "    <tr style=\"text-align: right;\">\n",
       "      <th></th>\n",
       "      <th>Age</th>\n",
       "      <th>Attrition</th>\n",
       "      <th>Businesstravel</th>\n",
       "      <th>Dailyrate</th>\n",
       "      <th>Department</th>\n",
       "      <th>Distancefromhome</th>\n",
       "      <th>Education</th>\n",
       "      <th>Educationfield</th>\n",
       "      <th>Employeenumber</th>\n",
       "      <th>Environmentsatisfaction</th>\n",
       "      <th>...</th>\n",
       "      <th>Stockoptionlevel</th>\n",
       "      <th>Totalworkingyears</th>\n",
       "      <th>Trainingtimeslastyear</th>\n",
       "      <th>Worklifebalance</th>\n",
       "      <th>Yearsatcompany</th>\n",
       "      <th>Yearsincurrentrole</th>\n",
       "      <th>Yearssincelastpromotion</th>\n",
       "      <th>Yearswithcurrmanager</th>\n",
       "      <th>Datebirth</th>\n",
       "      <th>Remotework</th>\n",
       "    </tr>\n",
       "  </thead>\n",
       "  <tbody>\n",
       "    <tr>\n",
       "      <th>0</th>\n",
       "      <td>51</td>\n",
       "      <td>No</td>\n",
       "      <td>NaN</td>\n",
       "      <td>684.0</td>\n",
       "      <td>NaN</td>\n",
       "      <td>6</td>\n",
       "      <td>3</td>\n",
       "      <td>NaN</td>\n",
       "      <td>162.0</td>\n",
       "      <td>1.0</td>\n",
       "      <td>...</td>\n",
       "      <td>0.0</td>\n",
       "      <td>NaN</td>\n",
       "      <td>5.0</td>\n",
       "      <td>3.0</td>\n",
       "      <td>20.0</td>\n",
       "      <td>NaN</td>\n",
       "      <td>15</td>\n",
       "      <td>15</td>\n",
       "      <td>1972</td>\n",
       "      <td>yes</td>\n",
       "    </tr>\n",
       "    <tr>\n",
       "      <th>1</th>\n",
       "      <td>52</td>\n",
       "      <td>No</td>\n",
       "      <td>NaN</td>\n",
       "      <td>699.0</td>\n",
       "      <td>NaN</td>\n",
       "      <td>1</td>\n",
       "      <td>4</td>\n",
       "      <td>life sciences</td>\n",
       "      <td>259.0</td>\n",
       "      <td>3.0</td>\n",
       "      <td>...</td>\n",
       "      <td>1.0</td>\n",
       "      <td>34.0</td>\n",
       "      <td>5.0</td>\n",
       "      <td>3.0</td>\n",
       "      <td>33.0</td>\n",
       "      <td>NaN</td>\n",
       "      <td>11</td>\n",
       "      <td>9</td>\n",
       "      <td>1971</td>\n",
       "      <td>yes</td>\n",
       "    </tr>\n",
       "    <tr>\n",
       "      <th>2</th>\n",
       "      <td>42</td>\n",
       "      <td>No</td>\n",
       "      <td>travel_rarely</td>\n",
       "      <td>532.0</td>\n",
       "      <td>research &amp; development</td>\n",
       "      <td>4</td>\n",
       "      <td>2</td>\n",
       "      <td>technical degree</td>\n",
       "      <td>319.0</td>\n",
       "      <td>3.0</td>\n",
       "      <td>...</td>\n",
       "      <td>0.0</td>\n",
       "      <td>22.0</td>\n",
       "      <td>3.0</td>\n",
       "      <td>NaN</td>\n",
       "      <td>22.0</td>\n",
       "      <td>NaN</td>\n",
       "      <td>11</td>\n",
       "      <td>15</td>\n",
       "      <td>1981</td>\n",
       "      <td>yes</td>\n",
       "    </tr>\n",
       "    <tr>\n",
       "      <th>3</th>\n",
       "      <td>47</td>\n",
       "      <td>No</td>\n",
       "      <td>travel_rarely</td>\n",
       "      <td>359.0</td>\n",
       "      <td>NaN</td>\n",
       "      <td>2</td>\n",
       "      <td>4</td>\n",
       "      <td>medical</td>\n",
       "      <td>NaN</td>\n",
       "      <td>1.0</td>\n",
       "      <td>...</td>\n",
       "      <td>2.0</td>\n",
       "      <td>NaN</td>\n",
       "      <td>2.0</td>\n",
       "      <td>NaN</td>\n",
       "      <td>20.0</td>\n",
       "      <td>NaN</td>\n",
       "      <td>5</td>\n",
       "      <td>6</td>\n",
       "      <td>1976</td>\n",
       "      <td>no</td>\n",
       "    </tr>\n",
       "    <tr>\n",
       "      <th>4</th>\n",
       "      <td>46</td>\n",
       "      <td>No</td>\n",
       "      <td>NaN</td>\n",
       "      <td>1319.0</td>\n",
       "      <td>NaN</td>\n",
       "      <td>3</td>\n",
       "      <td>3</td>\n",
       "      <td>technical degree</td>\n",
       "      <td>NaN</td>\n",
       "      <td>1.0</td>\n",
       "      <td>...</td>\n",
       "      <td>1.0</td>\n",
       "      <td>NaN</td>\n",
       "      <td>5.0</td>\n",
       "      <td>3.0</td>\n",
       "      <td>19.0</td>\n",
       "      <td>NaN</td>\n",
       "      <td>2</td>\n",
       "      <td>8</td>\n",
       "      <td>1977</td>\n",
       "      <td>no</td>\n",
       "    </tr>\n",
       "  </tbody>\n",
       "</table>\n",
       "<p>5 rows × 35 columns</p>\n",
       "</div>"
      ],
      "text/plain": [
       "   Age Attrition Businesstravel  Dailyrate                Department  \\\n",
       "0   51        No            NaN      684.0                       NaN   \n",
       "1   52        No            NaN      699.0                       NaN   \n",
       "2   42        No  travel_rarely      532.0   research & development    \n",
       "3   47        No  travel_rarely      359.0                       NaN   \n",
       "4   46        No            NaN     1319.0                       NaN   \n",
       "\n",
       "   Distancefromhome  Education    Educationfield  Employeenumber  \\\n",
       "0                 6          3               NaN           162.0   \n",
       "1                 1          4     life sciences           259.0   \n",
       "2                 4          2  technical degree           319.0   \n",
       "3                 2          4           medical             NaN   \n",
       "4                 3          3  technical degree             NaN   \n",
       "\n",
       "   Environmentsatisfaction  ... Stockoptionlevel  Totalworkingyears  \\\n",
       "0                      1.0  ...              0.0                NaN   \n",
       "1                      3.0  ...              1.0               34.0   \n",
       "2                      3.0  ...              0.0               22.0   \n",
       "3                      1.0  ...              2.0                NaN   \n",
       "4                      1.0  ...              1.0                NaN   \n",
       "\n",
       "   Trainingtimeslastyear  Worklifebalance Yearsatcompany  Yearsincurrentrole  \\\n",
       "0                    5.0              3.0           20.0                 NaN   \n",
       "1                    5.0              3.0           33.0                 NaN   \n",
       "2                    3.0              NaN           22.0                 NaN   \n",
       "3                    2.0              NaN           20.0                 NaN   \n",
       "4                    5.0              3.0           19.0                 NaN   \n",
       "\n",
       "  Yearssincelastpromotion  Yearswithcurrmanager  Datebirth  Remotework  \n",
       "0                      15                    15       1972         yes  \n",
       "1                      11                     9       1971         yes  \n",
       "2                      11                    15       1981         yes  \n",
       "3                       5                     6       1976          no  \n",
       "4                       2                     8       1977          no  \n",
       "\n",
       "[5 rows x 35 columns]"
      ]
     },
     "execution_count": 32,
     "metadata": {},
     "output_type": "execute_result"
    }
   ],
   "source": [
    "data.head(5)"
   ]
  },
  {
   "cell_type": "code",
   "execution_count": 33,
   "metadata": {},
   "outputs": [
    {
     "name": "stdout",
     "output_type": "stream",
     "text": [
      "Las columnas que contienen nulos o NaN son:\n",
      "\n",
      "Businesstravel --- 768 nulos\n",
      "Dailyrate --- 123 nulos\n",
      "Department --- 1305 nulos\n",
      "Educationfield --- 744 nulos\n",
      "Employeenumber --- 440 nulos\n",
      "Environmentsatisfaction --- 21 nulos\n",
      "Gender --- 21 nulos\n",
      "Hourlyrate --- 21 nulos\n",
      "Jobinvolvement --- 21 nulos\n",
      "Joblevel --- 21 nulos\n",
      "Jobrole --- 21 nulos\n",
      "Jobsatisfaction --- 21 nulos\n",
      "Maritalstatus --- 650 nulos\n",
      "Monthlyincome --- 840 nulos\n",
      "Overtime --- 670 nulos\n",
      "Performancerating --- 195 nulos\n",
      "Relationshipsatisfaction --- 21 nulos\n",
      "Standardhours --- 1190 nulos\n",
      "Stockoptionlevel --- 21 nulos\n",
      "Totalworkingyears --- 536 nulos\n",
      "Trainingtimeslastyear --- 21 nulos\n",
      "Worklifebalance --- 128 nulos\n",
      "Yearsatcompany --- 21 nulos\n",
      "Yearsincurrentrole --- 1574 nulos\n"
     ]
    }
   ],
   "source": [
    "print(\"Las columnas que contienen nulos o NaN son:\\n\")\n",
    "columnas_null_nan = []\n",
    "for column in data.columns:\n",
    "    if data[column].isna().any() or data[column].isnull().any():\n",
    "        print(f\"{column} --- {data[column].isna().sum()} nulos\")\n",
    "        columnas_null_nan.append(column)"
   ]
  },
  {
   "cell_type": "code",
   "execution_count": 28,
   "metadata": {},
   "outputs": [],
   "source": [
    "cat_columns = [column for column in data if data[column].dtype == \"O\"]\n",
    "num_columns = [column for column in data if data[column].dtype == \"float\" or data[column].dtype == \"int\" ]"
   ]
  },
  {
   "cell_type": "code",
   "execution_count": 35,
   "metadata": {},
   "outputs": [
    {
     "data": {
      "text/plain": [
       "['Attrition',\n",
       " 'Businesstravel',\n",
       " 'Department',\n",
       " 'Educationfield',\n",
       " 'Gender',\n",
       " 'Jobrole',\n",
       " 'Maritalstatus',\n",
       " 'Overtime',\n",
       " 'Remotework']"
      ]
     },
     "execution_count": 35,
     "metadata": {},
     "output_type": "execute_result"
    }
   ],
   "source": [
    "cat_columns"
   ]
  },
  {
   "cell_type": "code",
   "execution_count": 30,
   "metadata": {},
   "outputs": [
    {
     "data": {
      "text/plain": [
       "['Age',\n",
       " 'Dailyrate',\n",
       " 'Distancefromhome',\n",
       " 'Education',\n",
       " 'Employeenumber',\n",
       " 'Environmentsatisfaction',\n",
       " 'Hourlyrate',\n",
       " 'Jobinvolvement',\n",
       " 'Joblevel',\n",
       " 'Jobsatisfaction',\n",
       " 'Monthlyincome',\n",
       " 'Monthlyrate',\n",
       " 'Numcompaniesworked',\n",
       " 'Percentsalaryhike',\n",
       " 'Performancerating',\n",
       " 'Relationshipsatisfaction',\n",
       " 'Standardhours',\n",
       " 'Stockoptionlevel',\n",
       " 'Totalworkingyears',\n",
       " 'Trainingtimeslastyear',\n",
       " 'Worklifebalance',\n",
       " 'Yearsatcompany',\n",
       " 'Yearsincurrentrole',\n",
       " 'Yearssincelastpromotion',\n",
       " 'Yearswithcurrmanager',\n",
       " 'Datebirth']"
      ]
     },
     "execution_count": 30,
     "metadata": {},
     "output_type": "execute_result"
    }
   ],
   "source": [
    "num_columns"
   ]
  },
  {
   "cell_type": "code",
   "execution_count": 52,
   "metadata": {},
   "outputs": [],
   "source": [
    "cat_count = data['Businesstravel'].value_counts(dropna=False)"
   ]
  },
  {
   "cell_type": "code",
   "execution_count": 53,
   "metadata": {},
   "outputs": [
    {
     "data": {
      "text/plain": [
       "NaN                  768\n",
       "travel_rarely        584\n",
       "travel_frequently    164\n",
       "non-travel            91\n",
       "Name: Businesstravel, dtype: int64"
      ]
     },
     "execution_count": 53,
     "metadata": {},
     "output_type": "execute_result"
    }
   ],
   "source": [
    "cat_count"
   ]
  },
  {
   "cell_type": "code",
   "execution_count": 54,
   "metadata": {},
   "outputs": [
    {
     "name": "stdout",
     "output_type": "stream",
     "text": [
      "1607\n"
     ]
    }
   ],
   "source": [
    "total_cat = len(data[\"Businesstravel\"])\n",
    "\n",
    "print (total_cat)"
   ]
  },
  {
   "cell_type": "code",
   "execution_count": 55,
   "metadata": {},
   "outputs": [],
   "source": [
    "percent_Businesstravel = (cat_count/total_cat)*100"
   ]
  },
  {
   "cell_type": "code",
   "execution_count": null,
   "metadata": {},
   "outputs": [],
   "source": []
  }
 ],
 "metadata": {
  "kernelspec": {
   "display_name": "base",
   "language": "python",
   "name": "python3"
  },
  "language_info": {
   "codemirror_mode": {
    "name": "ipython",
    "version": 3
   },
   "file_extension": ".py",
   "mimetype": "text/x-python",
   "name": "python",
   "nbconvert_exporter": "python",
   "pygments_lexer": "ipython3",
   "version": "3.9.7"
  }
 },
 "nbformat": 4,
 "nbformat_minor": 2
}
