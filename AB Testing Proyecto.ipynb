{
 "cells": [
  {
   "cell_type": "code",
   "execution_count": 1,
   "metadata": {},
   "outputs": [],
   "source": [
    "# importamos las librerías que necesitamos\n",
    "\n",
    "# Tratamiento de datos\n",
    "# -----------------------------------------------------------------------\n",
    "import pandas as pd\n",
    "import numpy as np\n",
    "\n",
    "# Visualización\n",
    "# ------------------------------------------------------------------------------\n",
    "import matplotlib.pyplot as plt\n",
    "import seaborn as sns\n",
    "\n",
    "# Evaluar linealidad de las relaciones entre las variables\n",
    "# y la distribución de las variables\n",
    "# ------------------------------------------------------------------------------\n",
    "import scipy.stats as stats\n",
    "from scipy.stats import shapiro, poisson, chisquare, expon, kstest,chi2_contingency,ttest_ind\n",
    "\n",
    "# Configuración\n",
    "# -----------------------------------------------------------------------\n",
    "pd.set_option('display.max_columns', None) # para poder visualizar todas las columnas de los DataFrames\n",
    "\n",
    "# Gestión de los warnings\n",
    "# -----------------------------------------------------------------------\n",
    "import warnings\n",
    "warnings.filterwarnings(\"ignore\")"
   ]
  },
  {
   "cell_type": "code",
   "execution_count": 2,
   "metadata": {},
   "outputs": [],
   "source": [
    "df=pd.read_csv(\"project-da-promo-G-module-3-team-2/data_v3.csv\",index_col=0)"
   ]
  },
  {
   "cell_type": "code",
   "execution_count": 3,
   "metadata": {},
   "outputs": [
    {
     "data": {
      "text/html": [
       "<div>\n",
       "<style scoped>\n",
       "    .dataframe tbody tr th:only-of-type {\n",
       "        vertical-align: middle;\n",
       "    }\n",
       "\n",
       "    .dataframe tbody tr th {\n",
       "        vertical-align: top;\n",
       "    }\n",
       "\n",
       "    .dataframe thead th {\n",
       "        text-align: right;\n",
       "    }\n",
       "</style>\n",
       "<table border=\"1\" class=\"dataframe\">\n",
       "  <thead>\n",
       "    <tr style=\"text-align: right;\">\n",
       "      <th></th>\n",
       "      <th>Age</th>\n",
       "      <th>Attrition</th>\n",
       "      <th>Businesstravel</th>\n",
       "      <th>Dailyrate</th>\n",
       "      <th>Distancefromhome</th>\n",
       "      <th>Education</th>\n",
       "      <th>Educationfield</th>\n",
       "      <th>Environmentsatisfaction</th>\n",
       "      <th>Gender</th>\n",
       "      <th>Hourlyrate</th>\n",
       "      <th>Jobinvolvement</th>\n",
       "      <th>Joblevel</th>\n",
       "      <th>Jobrole</th>\n",
       "      <th>Jobsatisfaction</th>\n",
       "      <th>Maritalstatus</th>\n",
       "      <th>Monthlyrate</th>\n",
       "      <th>Numcompaniesworked</th>\n",
       "      <th>Overtime</th>\n",
       "      <th>Percentsalaryhike</th>\n",
       "      <th>Performancerating</th>\n",
       "      <th>Relationshipsatisfaction</th>\n",
       "      <th>Stockoptionlevel</th>\n",
       "      <th>Trainingtimeslastyear</th>\n",
       "      <th>Worklifebalance</th>\n",
       "      <th>Yearsatcompany</th>\n",
       "      <th>Yearssincelastpromotion</th>\n",
       "      <th>Yearswithcurrmanager</th>\n",
       "      <th>Datebirth</th>\n",
       "      <th>Remotework</th>\n",
       "    </tr>\n",
       "  </thead>\n",
       "  <tbody>\n",
       "    <tr>\n",
       "      <th>0</th>\n",
       "      <td>51</td>\n",
       "      <td>No</td>\n",
       "      <td>travel_rarely</td>\n",
       "      <td>684.0</td>\n",
       "      <td>6</td>\n",
       "      <td>3</td>\n",
       "      <td>unknown</td>\n",
       "      <td>1.0</td>\n",
       "      <td>H</td>\n",
       "      <td>51.0</td>\n",
       "      <td>3.0</td>\n",
       "      <td>5.0</td>\n",
       "      <td>research director</td>\n",
       "      <td>3.0</td>\n",
       "      <td>unknown</td>\n",
       "      <td>6462</td>\n",
       "      <td>7</td>\n",
       "      <td>no</td>\n",
       "      <td>13.0</td>\n",
       "      <td>3.0</td>\n",
       "      <td>3.0</td>\n",
       "      <td>0.0</td>\n",
       "      <td>5.0</td>\n",
       "      <td>3.0</td>\n",
       "      <td>20.0</td>\n",
       "      <td>15</td>\n",
       "      <td>15</td>\n",
       "      <td>1972</td>\n",
       "      <td>yes</td>\n",
       "    </tr>\n",
       "    <tr>\n",
       "      <th>1</th>\n",
       "      <td>52</td>\n",
       "      <td>No</td>\n",
       "      <td>travel_rarely</td>\n",
       "      <td>699.0</td>\n",
       "      <td>1</td>\n",
       "      <td>4</td>\n",
       "      <td>life sciences</td>\n",
       "      <td>3.0</td>\n",
       "      <td>H</td>\n",
       "      <td>65.0</td>\n",
       "      <td>2.0</td>\n",
       "      <td>5.0</td>\n",
       "      <td>manager</td>\n",
       "      <td>3.0</td>\n",
       "      <td>unknown</td>\n",
       "      <td>5678</td>\n",
       "      <td>0</td>\n",
       "      <td>no</td>\n",
       "      <td>14.0</td>\n",
       "      <td>3.0</td>\n",
       "      <td>1.0</td>\n",
       "      <td>1.0</td>\n",
       "      <td>5.0</td>\n",
       "      <td>3.0</td>\n",
       "      <td>33.0</td>\n",
       "      <td>11</td>\n",
       "      <td>9</td>\n",
       "      <td>1971</td>\n",
       "      <td>yes</td>\n",
       "    </tr>\n",
       "    <tr>\n",
       "      <th>2</th>\n",
       "      <td>42</td>\n",
       "      <td>No</td>\n",
       "      <td>travel_rarely</td>\n",
       "      <td>532.0</td>\n",
       "      <td>4</td>\n",
       "      <td>2</td>\n",
       "      <td>technical degree</td>\n",
       "      <td>3.0</td>\n",
       "      <td>H</td>\n",
       "      <td>58.0</td>\n",
       "      <td>3.0</td>\n",
       "      <td>5.0</td>\n",
       "      <td>manager</td>\n",
       "      <td>4.0</td>\n",
       "      <td>married</td>\n",
       "      <td>4933</td>\n",
       "      <td>1</td>\n",
       "      <td>no</td>\n",
       "      <td>11.0</td>\n",
       "      <td>3.0</td>\n",
       "      <td>4.0</td>\n",
       "      <td>0.0</td>\n",
       "      <td>3.0</td>\n",
       "      <td>3.0</td>\n",
       "      <td>22.0</td>\n",
       "      <td>11</td>\n",
       "      <td>15</td>\n",
       "      <td>1981</td>\n",
       "      <td>yes</td>\n",
       "    </tr>\n",
       "    <tr>\n",
       "      <th>3</th>\n",
       "      <td>47</td>\n",
       "      <td>No</td>\n",
       "      <td>travel_rarely</td>\n",
       "      <td>359.0</td>\n",
       "      <td>2</td>\n",
       "      <td>4</td>\n",
       "      <td>medical</td>\n",
       "      <td>1.0</td>\n",
       "      <td>M</td>\n",
       "      <td>82.0</td>\n",
       "      <td>3.0</td>\n",
       "      <td>4.0</td>\n",
       "      <td>research director</td>\n",
       "      <td>3.0</td>\n",
       "      <td>married</td>\n",
       "      <td>26703</td>\n",
       "      <td>3</td>\n",
       "      <td>no</td>\n",
       "      <td>19.0</td>\n",
       "      <td>3.0</td>\n",
       "      <td>2.0</td>\n",
       "      <td>2.0</td>\n",
       "      <td>2.0</td>\n",
       "      <td>3.0</td>\n",
       "      <td>20.0</td>\n",
       "      <td>5</td>\n",
       "      <td>6</td>\n",
       "      <td>1976</td>\n",
       "      <td>no</td>\n",
       "    </tr>\n",
       "    <tr>\n",
       "      <th>4</th>\n",
       "      <td>46</td>\n",
       "      <td>No</td>\n",
       "      <td>travel_rarely</td>\n",
       "      <td>1319.0</td>\n",
       "      <td>3</td>\n",
       "      <td>3</td>\n",
       "      <td>technical degree</td>\n",
       "      <td>1.0</td>\n",
       "      <td>M</td>\n",
       "      <td>45.0</td>\n",
       "      <td>4.0</td>\n",
       "      <td>4.0</td>\n",
       "      <td>sales executive</td>\n",
       "      <td>1.0</td>\n",
       "      <td>divorced</td>\n",
       "      <td>7739</td>\n",
       "      <td>2</td>\n",
       "      <td>no</td>\n",
       "      <td>12.0</td>\n",
       "      <td>3.0</td>\n",
       "      <td>4.0</td>\n",
       "      <td>1.0</td>\n",
       "      <td>5.0</td>\n",
       "      <td>3.0</td>\n",
       "      <td>19.0</td>\n",
       "      <td>2</td>\n",
       "      <td>8</td>\n",
       "      <td>1977</td>\n",
       "      <td>no</td>\n",
       "    </tr>\n",
       "  </tbody>\n",
       "</table>\n",
       "</div>"
      ],
      "text/plain": [
       "   Age Attrition Businesstravel  Dailyrate  Distancefromhome  Education  \\\n",
       "0   51        No  travel_rarely      684.0                 6          3   \n",
       "1   52        No  travel_rarely      699.0                 1          4   \n",
       "2   42        No  travel_rarely      532.0                 4          2   \n",
       "3   47        No  travel_rarely      359.0                 2          4   \n",
       "4   46        No  travel_rarely     1319.0                 3          3   \n",
       "\n",
       "     Educationfield  Environmentsatisfaction Gender  Hourlyrate  \\\n",
       "0           unknown                      1.0      H        51.0   \n",
       "1     life sciences                      3.0      H        65.0   \n",
       "2  technical degree                      3.0      H        58.0   \n",
       "3           medical                      1.0      M        82.0   \n",
       "4  technical degree                      1.0      M        45.0   \n",
       "\n",
       "   Jobinvolvement  Joblevel              Jobrole  Jobsatisfaction  \\\n",
       "0             3.0       5.0   research director               3.0   \n",
       "1             2.0       5.0             manager               3.0   \n",
       "2             3.0       5.0             manager               4.0   \n",
       "3             3.0       4.0   research director               3.0   \n",
       "4             4.0       4.0     sales executive               1.0   \n",
       "\n",
       "  Maritalstatus  Monthlyrate  Numcompaniesworked Overtime  Percentsalaryhike  \\\n",
       "0       unknown         6462                   7       no               13.0   \n",
       "1       unknown         5678                   0       no               14.0   \n",
       "2       married         4933                   1       no               11.0   \n",
       "3       married        26703                   3       no               19.0   \n",
       "4      divorced         7739                   2       no               12.0   \n",
       "\n",
       "   Performancerating  Relationshipsatisfaction  Stockoptionlevel  \\\n",
       "0                3.0                       3.0               0.0   \n",
       "1                3.0                       1.0               1.0   \n",
       "2                3.0                       4.0               0.0   \n",
       "3                3.0                       2.0               2.0   \n",
       "4                3.0                       4.0               1.0   \n",
       "\n",
       "   Trainingtimeslastyear  Worklifebalance  Yearsatcompany  \\\n",
       "0                    5.0              3.0            20.0   \n",
       "1                    5.0              3.0            33.0   \n",
       "2                    3.0              3.0            22.0   \n",
       "3                    2.0              3.0            20.0   \n",
       "4                    5.0              3.0            19.0   \n",
       "\n",
       "   Yearssincelastpromotion  Yearswithcurrmanager  Datebirth Remotework  \n",
       "0                       15                    15       1972        yes  \n",
       "1                       11                     9       1971        yes  \n",
       "2                       11                    15       1981        yes  \n",
       "3                        5                     6       1976         no  \n",
       "4                        2                     8       1977         no  "
      ]
     },
     "execution_count": 3,
     "metadata": {},
     "output_type": "execute_result"
    }
   ],
   "source": [
    "df.head()"
   ]
  },
  {
   "cell_type": "markdown",
   "metadata": {},
   "source": [
    "**Establecer hipótesis**"
   ]
  },
  {
   "cell_type": "markdown",
   "metadata": {},
   "source": [
    "**Hipótesis nula**[HO]: No hay cambios significativos entre los dos grupos\n",
    "\n",
    "**Hipótesis alternativa**[H1]: Hay cambios significativos entre lso dos grupos"
   ]
  },
  {
   "cell_type": "markdown",
   "metadata": {},
   "source": [
    "Se sospecha que los empleados con niveles de satisfacción más bajos tienen una mayor probabilidad de dejar la empresa.\n",
    "\n",
    "**Grupos**\n",
    "\n",
    "- Control: Empleados con un nivel de satisfacción en el trabajo igual o superior a 3 en una escala de 1 a 5\n",
    "- Variante: Empleados con un nivel de satisfacción en el trabajo inferior a 3 en la misma escala\n",
    "\n",
    "**Métrica**\n",
    "\n",
    "- Attrition:\n",
    "\n",
    "No: empleado no ha dejado la empresa\n",
    "        \n",
    "Yes: empleado ha dejado la empresa"
   ]
  },
  {
   "cell_type": "code",
   "execution_count": 4,
   "metadata": {},
   "outputs": [
    {
     "data": {
      "text/plain": [
       "Index(['Age', 'Attrition', 'Businesstravel', 'Dailyrate', 'Distancefromhome',\n",
       "       'Education', 'Educationfield', 'Environmentsatisfaction', 'Gender',\n",
       "       'Hourlyrate', 'Jobinvolvement', 'Joblevel', 'Jobrole',\n",
       "       'Jobsatisfaction', 'Maritalstatus', 'Monthlyrate', 'Numcompaniesworked',\n",
       "       'Overtime', 'Percentsalaryhike', 'Performancerating',\n",
       "       'Relationshipsatisfaction', 'Stockoptionlevel', 'Trainingtimeslastyear',\n",
       "       'Worklifebalance', 'Yearsatcompany', 'Yearssincelastpromotion',\n",
       "       'Yearswithcurrmanager', 'Datebirth', 'Remotework'],\n",
       "      dtype='object')"
      ]
     },
     "execution_count": 4,
     "metadata": {},
     "output_type": "execute_result"
    }
   ],
   "source": [
    "df.columns"
   ]
  },
  {
   "cell_type": "code",
   "execution_count": 3,
   "metadata": {},
   "outputs": [],
   "source": [
    "# Paso1. Dividimos a los empleados en los grupos A y B \n",
    "\n",
    "def asignar_grupos(numero):\n",
    "    if numero >= 3:\n",
    "        return \"grupo A\"\n",
    "    else:\n",
    "        return \"grupo B\"\n",
    "    \n",
    "\n",
    "df[\"Jobsatisfaction_ab\"]= df[\"Jobsatisfaction\"].apply(asignar_grupos)\n",
    "df[\"Environmentsatisfactionab\"]=df[\"Environmentsatisfaction\"].apply(asignar_grupos)\n",
    "df[\"Relationshipsatisfaction_ab\"]=df[\"Relationshipsatisfaction\"].apply(asignar_grupos)\n",
    "df[\"Jobinvolvement_ab\"]=df[\"Jobinvolvement\"].apply(asignar_grupos)\n",
    "df[\"Worklifebalance_ab\"]=df[\"Worklifebalance\"].apply(asignar_grupos)"
   ]
  },
  {
   "cell_type": "code",
   "execution_count": 4,
   "metadata": {},
   "outputs": [
    {
     "name": "stdout",
     "output_type": "stream",
     "text": [
      "la tasa de rotación del grupo de control es:1.0\n",
      "la tasa de rotación del grupo variante es:0.15952080706179067\n"
     ]
    }
   ],
   "source": [
    "# Calculamos de la tasa de rotación\n",
    "\n",
    "df_rotacion = df[df[\"Attrition\"] == \"Yes\"]\n",
    "tasa_rotacion = df.shape[0] / df.shape[0]\n",
    "print(f\"la tasa de rotación del grupo de control es:{tasa_rotacion}\")\n",
    "\n",
    "# Tasa de rotación en grupo variante\n",
    "df_variante_rotacion = df[df[\"Attrition\"] == \"Yes\"]\n",
    "tasa_rotacion_variante = df_variante_rotacion.shape[0] / df.shape[0]\n",
    "print(f\"la tasa de rotación del grupo variante es:{tasa_rotacion_variante}\")"
   ]
  },
  {
   "cell_type": "code",
   "execution_count": 10,
   "metadata": {},
   "outputs": [
    {
     "data": {
      "image/png": "[encoded data removed]",
      "text/plain": [
       "<Figure size 432x288 with 1 Axes>"
      ]
     },
     "metadata": {
      "needs_background": "light"
     },
     "output_type": "display_data"
    }
   ],
   "source": [
    "# Gráfico para visualizar la diferencia en la tasa de rotación\n",
    "\n",
    "# Tasa de conversión\n",
    "rota = {\"grupo\":[\"control\", \"variante\"], \"tasa_rotacion\": [0.14, 0.2]}\n",
    "df_rotacion = pd.DataFrame(rota)\n",
    "\n",
    "# Gráfica de rotacion\n",
    "sns.barplot(x=\"grupo\", y=\"tasa_rotacion\", data=df_rotacion)\n",
    "plt.title(\"Tasa de rotación\");"
   ]
  },
  {
   "cell_type": "markdown",
   "metadata": {},
   "source": [
    "La tasa de rotación es mayor en el grupo variante (satisfacción bajo)"
   ]
  },
  {
   "cell_type": "code",
   "execution_count": 22,
   "metadata": {},
   "outputs": [
    {
     "name": "stdout",
     "output_type": "stream",
     "text": [
      "0.0035330175381607944\n",
      "Hay una diferencia significativa en la tasa de rotación de ambos grupos.\n",
      "\n",
      " ---------- \n",
      "\n",
      "\n",
      "          Los resultados sugieren que si que existe una diferencia entre los grupos \n",
      "          \n"
     ]
    }
   ],
   "source": [
    "# Tabla de contingencia\n",
    "contingency_table = pd.crosstab(df[\"Jobsatisfaction_ab\"], df['Attrition'])\n",
    "\n",
    "# Realizar la prueba de proporciones\n",
    "chi2, p_value, _, _ = chi2_contingency(contingency_table)\n",
    "print(p_value)\n",
    "\n",
    "# Imprimir resultado \n",
    "alpha = 0.05\n",
    "if p_value < alpha:\n",
    "    print(\"Hay una diferencia significativa en la tasa de rotación de ambos grupos.\")\n",
    "    print(\"\\n ---------- \\n\")\n",
    "    print(\"\"\"\n",
    "          Los resultados sugieren que si que existe una diferencia entre los grupos \n",
    "          \"\"\")\n",
    "else:\n",
    "    print(\"No hay evidencia de una diferencia significativa en la tasa de rotación de ambos grupos.\")\n",
    "    print(\"\\n ---------- \\n\")\n",
    "    print(\"\"\" \n",
    "          Los resultados sugieren que no existe evidencia estadística para afirmar que las medias de las muestras son distintas\n",
    "          \"\"\")"
   ]
  },
  {
   "cell_type": "code",
   "execution_count": 24,
   "metadata": {},
   "outputs": [
    {
     "data": {
      "image/png": "[encoded data removed]",
      "text/plain": [
       "<Figure size 1440x360 with 2 Axes>"
      ]
     },
     "metadata": {
      "needs_background": "light"
     },
     "output_type": "display_data"
    }
   ],
   "source": [
    "fig, axes = plt.subplots(nrows=1, ncols=2, figsize=(20, 5),sharey=True)\n",
    "\n",
    "\n",
    "\n",
    "# Gráfico 1: Rotación del grupo control\n",
    "sns.countplot(x=\"Jobsatisfaction_ab\", hue=\"Attrition\", data=df, ax=axes[0])\n",
    "axes[0].set_title(\"Rotación grupo control\")\n",
    "\n",
    "# Gráfico 2: Rotación del grupo variante\n",
    "sns.countplot(x=\"Jobsatisfaction_ab\", hue=\"Attrition\", data=df, ax=axes[1])\n",
    "axes[1].set_title(\"Rotación grupo variante\");"
   ]
  },
  {
   "cell_type": "markdown",
   "metadata": {},
   "source": [
    "**Análisis estadístico para:**\n",
    "\n",
    "Verificar: \n",
    "- Normalidad\n",
    "- Homogeneidad de Varianzas \n",
    "- Independencia"
   ]
  },
  {
   "cell_type": "code",
   "execution_count": 7,
   "metadata": {},
   "outputs": [
    {
     "data": {
      "text/plain": [
       "array(['No', 'Yes'], dtype=object)"
      ]
     },
     "execution_count": 7,
     "metadata": {},
     "output_type": "execute_result"
    }
   ],
   "source": [
    "df['Attrition'].unique()"
   ]
  },
  {
   "cell_type": "code",
   "execution_count": 6,
   "metadata": {},
   "outputs": [
    {
     "name": "stdout",
     "output_type": "stream",
     "text": [
      "0    0\n",
      "1    0\n",
      "2    0\n",
      "3    0\n",
      "4    0\n",
      "Name: Attrition_numeric, dtype: int64\n"
     ]
    }
   ],
   "source": [
    "# Convertir \"Sí\" a 1 y \"No\" a 0\n",
    "df[\"Attrition_numeric\"] = df[\"Attrition\"].map({\"Yes\": 1, \"No\": 0})\n",
    "\n",
    "# Verificar si la conversión fue exitosa\n",
    "print(df[\"Attrition_numeric\"].head())"
   ]
  },
  {
   "cell_type": "code",
   "execution_count": 10,
   "metadata": {},
   "outputs": [
    {
     "name": "stdout",
     "output_type": "stream",
     "text": [
      "Para la columna Attrition_numeric los datos no siguen una distribución normal.\n"
     ]
    }
   ],
   "source": [
    "# NORMALIDAD (Shapiro)\n",
    "\n",
    "def normalidad(dataframe, columna):\n",
    "    if dataframe[columna].dtype != \"object\":\n",
    "        statistic, p_value = stats.shapiro(dataframe[columna])\n",
    "        if p_value > 0.05:\n",
    "            print(f\"Para la columna {columna} los datos siguen una distribución normal.\")\n",
    "        else:\n",
    "         print(f\"Para la columna {columna} los datos no siguen una distribución normal.\")\n",
    "    else:\n",
    "        print(f\"La columna {columna} no contiene datos numéricos, no se puede realizar el test de normalidad.\")\n",
    "\n",
    "normalidad(df, \"Attrition_numeric\")\n"
   ]
  },
  {
   "cell_type": "markdown",
   "metadata": {},
   "source": [
    "Si 'attrition' no sigue una distribución normal, tendríamos que hacer la prueba de ManWhitney "
   ]
  },
  {
   "cell_type": "code",
   "execution_count": 14,
   "metadata": {},
   "outputs": [
    {
     "data": {
      "text/html": [
       "<div>\n",
       "<style scoped>\n",
       "    .dataframe tbody tr th:only-of-type {\n",
       "        vertical-align: middle;\n",
       "    }\n",
       "\n",
       "    .dataframe tbody tr th {\n",
       "        vertical-align: top;\n",
       "    }\n",
       "\n",
       "    .dataframe thead th {\n",
       "        text-align: right;\n",
       "    }\n",
       "</style>\n",
       "<table border=\"1\" class=\"dataframe\">\n",
       "  <thead>\n",
       "    <tr style=\"text-align: right;\">\n",
       "      <th>Jobsatisfaction_ab</th>\n",
       "      <th>grupo A</th>\n",
       "      <th>grupo B</th>\n",
       "    </tr>\n",
       "    <tr>\n",
       "      <th>Attrition</th>\n",
       "      <th></th>\n",
       "      <th></th>\n",
       "    </tr>\n",
       "  </thead>\n",
       "  <tbody>\n",
       "    <tr>\n",
       "      <th>No</th>\n",
       "      <td>839</td>\n",
       "      <td>494</td>\n",
       "    </tr>\n",
       "    <tr>\n",
       "      <th>Yes</th>\n",
       "      <td>134</td>\n",
       "      <td>119</td>\n",
       "    </tr>\n",
       "  </tbody>\n",
       "</table>\n",
       "</div>"
      ],
      "text/plain": [
       "Jobsatisfaction_ab  grupo A  grupo B\n",
       "Attrition                           \n",
       "No                      839      494\n",
       "Yes                     134      119"
      ]
     },
     "execution_count": 14,
     "metadata": {},
     "output_type": "execute_result"
    }
   ],
   "source": [
    "cross_tab = pd.crosstab(df[\"Attrition\"],df[\"Jobsatisfaction_ab\"])\n",
    "cross_tab"
   ]
  },
  {
   "cell_type": "markdown",
   "metadata": {},
   "source": [
    "**HO**: No existe relación entre la satisfacción y la continuidad en la empresa.\n",
    "\n",
    "\n",
    "**H1**: Existe relación entre la satisfacción y la continuidad en la empresa."
   ]
  },
  {
   "cell_type": "code",
   "execution_count": 13,
   "metadata": {},
   "outputs": [
    {
     "name": "stdout",
     "output_type": "stream",
     "text": [
      "Hay una diferencia significativa entre la satisfacción y la continuidad en la empresa\n",
      "\n",
      " ---------- \n",
      "\n"
     ]
    }
   ],
   "source": [
    "chi2, p_value, _, _ = chi2_contingency(cross_tab)\n",
    "\n",
    "alpha = 0.05\n",
    "if p_value < alpha:\n",
    "    print(\"Hay una diferencia significativa entre la satisfacción y la continuidad en la empresa\")\n",
    "    print(\"\\n ---------- \\n\")\n",
    "    \n",
    "else:\n",
    "    print(\"No hay evidencia de una diferencia significativa entre la continuidad en la empresa y la satisfacción\")\n",
    "    print(\"\\n ---------- \\n\")\n"
   ]
  },
  {
   "cell_type": "markdown",
   "metadata": {},
   "source": [
    "< 0.05 Rechazamos hipótesis nula, hay diferencia en la tasa de conversión entre los grupos AD y PSA\n",
    "> 0.05 Aceptamos  la hipótesis nula, no hay diferencia en la tasa de conversión"
   ]
  },
  {
   "cell_type": "code",
   "execution_count": 18,
   "metadata": {},
   "outputs": [
    {
     "data": {
      "image/png": "[encoded data removed]",
      "text/plain": [
       "<Figure size 432x288 with 1 Axes>"
      ]
     },
     "metadata": {
      "needs_background": "light"
     },
     "output_type": "display_data"
    }
   ],
   "source": [
    "sns.barplot(x=\"Jobsatisfaction_ab\", y=\"Attrition_numeric\", data=df,  palette = \"plasma\");\n",
    "plt.xlabel('Satisfacción')\n",
    "plt.ylabel('Continuidad')\n",
    "plt.title('Satisfacción vs continuidad', fontsize = 10);"
   ]
  }
 ],
 "metadata": {
  "kernelspec": {
   "display_name": "base",
   "language": "python",
   "name": "python3"
  },
  "language_info": {
   "codemirror_mode": {
    "name": "ipython",
    "version": 3
   },
   "file_extension": ".py",
   "mimetype": "text/x-python",
   "name": "python",
   "nbconvert_exporter": "python",
   "pygments_lexer": "ipython3",
   "version": "3.9.12"
  }
 },
 "nbformat": 4,
 "nbformat_minor": 2
}
